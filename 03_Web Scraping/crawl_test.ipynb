{
 "cells": [
  {
   "cell_type": "code",
   "execution_count": 1,
   "id": "8bc49f89",
   "metadata": {},
   "outputs": [
    {
     "name": "stdout",
     "output_type": "stream",
     "text": [
      "{'제목': '흔한남매 20', '저자': '흔한남매'}\n",
      "{'제목': '트렌드 코리아 2026', '저자': '김난도 외'}\n",
      "{'제목': '절창', '저자': '구병모'}\n",
      "{'제목': '시대예보: 경량문명의 탄생', '저자': '송길영'}\n",
      "{'제목': '렛뎀 이론', '저자': '멜 로빈스'}\n",
      "{'제목': '혼모노', '저자': '성해나'}\n",
      "{'제목': '호의에 대하여', '저자': '문형배'}\n",
      "{'제목': '모순', '저자': '양귀자'}\n",
      "{'제목': '자몽살구클럽', '저자': '한로로'}\n",
      "{'제목': '다정한 사람이 이긴다', '저자': '이해인'}\n"
     ]
    }
   ],
   "source": [
    "from selenium import webdriver\n",
    "from selenium.webdriver.chrome.service import Service\n",
    "from selenium.webdriver.common.by import By\n",
    "from webdriver_manager.chrome import ChromeDriverManager\n",
    "from bs4 import BeautifulSoup\n",
    "\n",
    "url = 'https://store.kyobobook.co.kr/bestseller/store/seoul/001/00'   # 광화문점\n",
    "\n",
    "books = []\n",
    "with webdriver.Chrome(service=Service(ChromeDriverManager().install())) as driver:\n",
    "    driver.get(url)\n",
    "    driver.implicitly_wait(10)\n",
    "    book_list1 = driver.find_element(By.XPATH, '/html/body/div[2]/main/section/div/div/section/ol[1]')\n",
    "    # book_list2 = driver.find_element(By.XPATH, '/html/body/div[2]/main/section/div/div/section/ol[2]')\n",
    "    html = book_list1.get_attribute('outerHTML')  # book_list1의 HTML을 문자열로 추출\n",
    "    soup = BeautifulSoup(html, 'html.parser')\n",
    "\n",
    "    for item in soup.select('li.mt-9'):\n",
    "        title_tag = item.select_one('a.prod_link.line-clamp-2')\n",
    "        title = title_tag.text.strip() if title_tag else None\n",
    "\n",
    "        author_tag = item.select_one('div.line-clamp-2')\n",
    "        author = author_tag.text.split('·')[0].strip() if author_tag else None\n",
    "\n",
    "        books.append({\n",
    "            '제목': title,\n",
    "            '저자': author,\n",
    "        })\n",
    "\n",
    "for book in books:\n",
    "    print(book)"
   ]
  }
 ],
 "metadata": {
  "kernelspec": {
   "display_name": "Python 3",
   "language": "python",
   "name": "python3"
  },
  "language_info": {
   "codemirror_mode": {
    "name": "ipython",
    "version": 3
   },
   "file_extension": ".py",
   "mimetype": "text/x-python",
   "name": "python",
   "nbconvert_exporter": "python",
   "pygments_lexer": "ipython3",
   "version": "3.13.7"
  }
 },
 "nbformat": 4,
 "nbformat_minor": 5
}
