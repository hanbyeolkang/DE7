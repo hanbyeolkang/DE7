{
 "cells": [
  {
   "cell_type": "code",
   "execution_count": 1,
   "id": "c82b52da",
   "metadata": {},
   "outputs": [
    {
     "name": "stdout",
     "output_type": "stream",
     "text": [
      "100\n",
      "inf\n"
     ]
    }
   ],
   "source": [
    "INF = float('inf')\n",
    "a = 100\n",
    "print(min(INF, a))\n",
    "print(max(INF, a))"
   ]
  }
 ],
 "metadata": {
  "kernelspec": {
   "display_name": "Python 3",
   "language": "python",
   "name": "python3"
  },
  "language_info": {
   "codemirror_mode": {
    "name": "ipython",
    "version": 3
   },
   "file_extension": ".py",
   "mimetype": "text/x-python",
   "name": "python",
   "nbconvert_exporter": "python",
   "pygments_lexer": "ipython3",
   "version": "3.13.7"
  }
 },
 "nbformat": 4,
 "nbformat_minor": 5
}
